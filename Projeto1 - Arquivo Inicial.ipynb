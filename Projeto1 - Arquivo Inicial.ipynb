{
 "cells": [
  {
   "attachments": {},
   "cell_type": "markdown",
   "id": "a7447279",
   "metadata": {},
   "source": [
    "# Automação de Sistemas e Processos com Python\n",
    "\n",
    "### Desafio:\n",
    "\n",
    "Para controle de custos, todos os dias, seu chefe pede um relatório com todas as compras de mercadorias da empresa.\n",
    "O seu trabalho, como analista, é enviar um e-mail para ele, assim que começar a trabalhar, com o total gasto, a quantidade de produtos compradas e o preço médio dos produtos.\n",
    "\n",
    "E-mail do seu chefe: para o nosso exercício, coloque um e-mail seu como sendo o e-mail do seu chefe<br>\n",
    "Link de acesso ao sistema da empresa: https://pages.hashtagtreinamentos.com/aula1-intensivao-sistema\n",
    "\n",
    "Para resolver isso, vamos usar o pyautogui, uma biblioteca de automação de comandos do mouse e do teclado"
   ]
  },
  {
   "cell_type": "code",
   "execution_count": 33,
   "id": "ca33d7af",
   "metadata": {},
   "outputs": [],
   "source": [
    "import pyautogui\n",
    "import time\n",
    "import pandas as pd\n",
    "import pyperclip # permite copiar um texto colar com pyautogui\n",
    "\n",
    "# pyautogui.click # clica\n",
    "# pyautogui.write # escreve texto\n",
    "# pyautogui.press # aperta uma tecla\n",
    "# pyautogui.hotkey # atalho\n",
    "\n",
    "# Passo 1: Acessar o sistema dmeu logina empresa\n",
    "\n",
    "pyautogui.PAUSE = 1\n",
    "\n",
    "pyautogui.hotkey(\"win\")\n",
    "pyautogui.write(\"opera\")\n",
    "pyautogui.press(\"enter\")\n",
    "pyautogui.write(\"https://pages.hashtagtreinamentos.com/aula1-intensivao-sistema\")\n",
    "pyautogui.press(\"enter\")\n",
    "time.sleep(5)\n",
    "\n",
    "# Passo 2: Fazer login no sistema\n",
    "\n",
    "pyautogui.click(970, 475)\n",
    "pyautogui.write(\"meu login\")\n",
    "pyautogui.click(971, 568)\n",
    "pyautogui.write(\"minha senha\")\n",
    "pyautogui.click(983, 654)\n",
    "time.sleep(5)\n",
    "\n",
    "# Passo 3: Baixar a base de dados\n",
    "\n",
    "pyautogui.click(616, 423)\n",
    "pyautogui.click(675, 245)\n",
    "\n",
    "# Passo 4: Calcular os indicadores\n",
    "\n",
    "\n",
    "tabela = pd.read_csv(r\"C:\\Users\\gusta\\Downloads\\Compras.csv\", sep = \";\")\n",
    "\n",
    "# total gasto\n",
    "\n",
    "totalGasto = tabela[\"ValorFinal\"].sum()\n",
    "\n",
    "# quantidade\n",
    "\n",
    "quantidade = tabela[\"Quantidade\"].sum()\n",
    "\n",
    "# preço médio -> total gasto / quantidade\n",
    "\n",
    "precoMedio = totalGasto/quantidade\n",
    "\n",
    "# Passo 5: Enviar um email para a diretoria ou para o chefe\n",
    "\n",
    "pyautogui.hotkey(\"ctrl\", \"t\")\n",
    "time.sleep(5)\n",
    "pyautogui.click(x=417, y=61)\n",
    "pyautogui.write(\"https://mail.google.com/mail/u/0/#inbox\")\n",
    "pyautogui.press(\"enter\")\n",
    "time.sleep(5)\n",
    "pyautogui.click(x=149, y=242)\n",
    "pyautogui.write(\"gustavo.tavares24@outlook.com\")\n",
    "pyautogui.press(\"tab\")\n",
    "pyautogui.press(\"tab\")\n",
    "pyperclip.copy(\"Relatório de vendas\")\n",
    "pyautogui.hotkey(\"ctrl\", \"v\")\n",
    "pyautogui.press(\"tab\")\n",
    "texto =f\"\"\"\n",
    "Prezados,\n",
    "\n",
    "Segue o realtório de compras\n",
    "\n",
    "Total gasto: R$ {totalGasto:,.2f}\n",
    "Quantidade de produtos: {quantidade:,} \n",
    "Preço médio: R$ {precoMedio:,.2f}\n",
    "\"\"\"\n",
    "\n",
    "pyperclip.copy(texto)\n",
    "pyautogui.hotkey(\"ctrl\", \"v\")\n",
    "pyautogui.hotkey(\"ctrl\", \"enter\")\n"
   ]
  },
  {
   "cell_type": "code",
   "execution_count": 24,
   "id": "361e9c2e",
   "metadata": {},
   "outputs": [
    {
     "name": "stdout",
     "output_type": "stream",
     "text": [
      "7254196.58\n",
      "9715\n",
      "746.7006258363356\n"
     ]
    }
   ],
   "source": [
    "# Passo 4: Calcular os indicadores\n",
    "\n",
    "import pandas as pd\n",
    "\n",
    "tabela = pd.read_csv(r\"C:\\Users\\gusta\\Downloads\\Compras.csv\", sep = \";\")\n",
    "\n",
    "# total gasto\n",
    "\n",
    "totalGasto = tabela[\"ValorFinal\"].sum()\n",
    "\n",
    "# quantidade\n",
    "\n",
    "quantidade = tabela[\"Quantidade\"].sum()\n",
    "\n",
    "# preço médio -> total gasto / quantidade\n",
    "\n",
    "precoMedio = totalGasto/quantidade\n",
    "\n",
    "print(totalGasto)\n",
    "print(quantidade)\n",
    "print(precoMedio)"
   ]
  },
  {
   "cell_type": "code",
   "execution_count": null,
   "id": "7c2e8253",
   "metadata": {},
   "outputs": [],
   "source": [
    "# Passo 5: Enviar um email para a diretoria ou para o chefe\n",
    "\n",
    "import pyautogui\n",
    "\n",
    "pyautogui.hotkey(\"ctrl\", \"t\")\n",
    "pyautogui.write(\"https://mail.google.com/mail/u/0/#inbox\")\n",
    "pyautogui.click(x=149, y=242)\n",
    "pyautogui.write(\"gustavo.tavares24@outlook.com\")\n",
    "pyautogui.press(\"tab\")"
   ]
  },
  {
   "cell_type": "code",
   "execution_count": 14,
   "id": "92aa47dc",
   "metadata": {},
   "outputs": [
    {
     "name": "stdout",
     "output_type": "stream",
     "text": [
      "Requirement already satisfied: pyautogui in c:\\python311\\lib\\site-packages (0.9.53)\n",
      "Requirement already satisfied: pymsgbox in c:\\python311\\lib\\site-packages (from pyautogui) (1.0.9)\n",
      "Requirement already satisfied: PyTweening>=1.0.1 in c:\\python311\\lib\\site-packages (from pyautogui) (1.0.7)\n",
      "Requirement already satisfied: pyscreeze>=0.1.21 in c:\\python311\\lib\\site-packages (from pyautogui) (0.1.28)\n",
      "Requirement already satisfied: pygetwindow>=0.0.5 in c:\\python311\\lib\\site-packages (from pyautogui) (0.0.9)\n",
      "Requirement already satisfied: mouseinfo in c:\\python311\\lib\\site-packages (from pyautogui) (0.1.3)\n",
      "Requirement already satisfied: pyrect in c:\\python311\\lib\\site-packages (from pygetwindow>=0.0.5->pyautogui) (0.2.0)\n",
      "Requirement already satisfied: pyperclip in c:\\python311\\lib\\site-packages (from mouseinfo->pyautogui) (1.8.2)\n"
     ]
    },
    {
     "name": "stderr",
     "output_type": "stream",
     "text": [
      "\n",
      "[notice] A new release of pip is available: 23.0.1 -> 23.1.2\n",
      "[notice] To update, run: python.exe -m pip install --upgrade pip\n"
     ]
    }
   ],
   "source": [
    "!pip install pyautogui"
   ]
  },
  {
   "cell_type": "code",
   "execution_count": 34,
   "id": "f4e64b05",
   "metadata": {},
   "outputs": [
    {
     "name": "stdout",
     "output_type": "stream",
     "text": [
      "Point(x=1439, y=56)\n"
     ]
    }
   ],
   "source": [
    "import time\n",
    "import pyautogui\n",
    "time.sleep(5)\n",
    "print(pyautogui.position())\n"
   ]
  }
 ],
 "metadata": {
  "kernelspec": {
   "display_name": "Python 3 (ipykernel)",
   "language": "python",
   "name": "python3"
  },
  "language_info": {
   "codemirror_mode": {
    "name": "ipython",
    "version": 3
   },
   "file_extension": ".py",
   "mimetype": "text/x-python",
   "name": "python",
   "nbconvert_exporter": "python",
   "pygments_lexer": "ipython3",
   "version": "3.11.0"
  }
 },
 "nbformat": 4,
 "nbformat_minor": 5
}
